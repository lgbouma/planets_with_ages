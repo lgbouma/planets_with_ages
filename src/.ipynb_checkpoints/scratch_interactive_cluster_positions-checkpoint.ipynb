{
 "cells": [
  {
   "cell_type": "code",
   "execution_count": 2,
   "metadata": {
    "collapsed": true
   },
   "outputs": [],
   "source": [
    "import numpy as np"
   ]
  },
  {
   "cell_type": "code",
   "execution_count": 3,
   "metadata": {
    "collapsed": true
   },
   "outputs": [],
   "source": [
    "from plot_cluster_positions import get_cluster_data"
   ]
  },
  {
   "cell_type": "code",
   "execution_count": 4,
   "metadata": {},
   "outputs": [
    {
     "name": "stderr",
     "output_type": "stream",
     "text": [
      "WARNING: W27: ../data/Kharchenko_2013_MWSC.vot:34:2: W27: COOSYS deprecated in VOTable 1.2 [astropy.io.votable.tree]\n",
      "WARNING: W03: ../data/Kharchenko_2013_MWSC.vot:127:4: W03: Implicitly generating an ID from a name 'E(B-V)' -> 'E_B-V_' [astropy.io.votable.xmlutil]\n",
      "WARNING: W03: ../data/Kharchenko_2013_MWSC.vot:133:4: W03: Implicitly generating an ID from a name 'E(J-Ks)' -> 'E_J-Ks_' [astropy.io.votable.xmlutil]\n",
      "WARNING: W03: ../data/Kharchenko_2013_MWSC.vot:136:4: W03: Implicitly generating an ID from a name 'E(J-H)' -> 'E_J-H_' [astropy.io.votable.xmlutil]\n",
      "WARNING: W50: ../data/Kharchenko_2013_MWSC.vot:142:4: W50: Invalid unit string '[yr]' [astropy.io.votable.tree]\n",
      "WARNING: W50: ../data/Kharchenko_2013_MWSC.vot:145:4: W50: Invalid unit string '[yr]' [astropy.io.votable.tree]\n",
      "WARNING: W03: ../data/Kharchenko_2013_MWSC.vot:183:4: W03: Implicitly generating an ID from a name '[Fe/H]' -> '__Fe_H_' [astropy.io.votable.xmlutil]\n",
      "WARNING: W50: ../data/Kharchenko_2013_MWSC.vot:183:4: W50: Invalid unit string '[Sun]' [astropy.io.votable.tree]\n",
      "WARNING: W03: ../data/Kharchenko_2013_MWSC.vot:187:4: W03: Implicitly generating an ID from a name 'e_[Fe/H]' -> 'e__Fe_H_' [astropy.io.votable.xmlutil]\n",
      "WARNING: W50: ../data/Kharchenko_2013_MWSC.vot:187:4: W50: Invalid unit string '[Sun]' [astropy.io.votable.tree]\n",
      "WARNING: W03: ../data/Kharchenko_2013_MWSC.vot:191:4: W03: Implicitly generating an ID from a name 'o_[Fe/H]' -> 'o__Fe_H_' [astropy.io.votable.xmlutil]\n",
      "WARNING: W49: ../data/Kharchenko_2013_MWSC.vot:202:437: W49: Empty cell illegal for integer fields. [astropy.io.votable.converters]\n"
     ]
    },
    {
     "name": "stdout",
     "output_type": "stream",
     "text": [
      "**************************************************\n",
      "\n",
      "Milky Way Star Clusters (close := <500pc)\n",
      "N_clusters: 86\n",
      "N_stars (in core): 691\n",
      "N_stars (in central part): 10468\n",
      "N_stars (in cluster): 32200\n",
      "\n",
      "**************************************************\n",
      "\n",
      "Milky Way Star Clusters (far := <1000pc)\n",
      "N_clusters: 361\n",
      "N_stars (in core): 2390\n",
      "N_stars (in central part): 31727\n",
      "N_stars (in cluster): 94959\n",
      "\n",
      "**************************************************\n"
     ]
    },
    {
     "name": "stderr",
     "output_type": "stream",
     "text": [
      "WARNING: W49: ../data/Kharchenko_2013_MWSC.vot:204:450: W49: Empty cell illegal for integer fields. [astropy.io.votable.converters]\n",
      "WARNING: W49: ../data/Kharchenko_2013_MWSC.vot:205:443: W49: Empty cell illegal for integer fields. [astropy.io.votable.converters]\n",
      "WARNING: W49: ../data/Kharchenko_2013_MWSC.vot:206:446: W49: Empty cell illegal for integer fields. [astropy.io.votable.converters]\n",
      "WARNING: W49: ../data/Kharchenko_2013_MWSC.vot:208:443: W49: Empty cell illegal for integer fields. [astropy.io.votable.converters]\n",
      "WARNING: W49: ../data/Kharchenko_2013_MWSC.vot:209:437: W49: Empty cell illegal for integer fields. [astropy.io.votable.converters]\n",
      "WARNING: W49: ../data/Kharchenko_2013_MWSC.vot:210:436: W49: Empty cell illegal for integer fields. [astropy.io.votable.converters]\n",
      "WARNING: W49: ../data/Kharchenko_2013_MWSC.vot:211:438: W49: Empty cell illegal for integer fields. [astropy.io.votable.converters]\n",
      "WARNING: W49: ../data/Kharchenko_2013_MWSC.vot:212:435: W49: Empty cell illegal for integer fields. [astropy.io.votable.converters]\n",
      "WARNING: W49: ../data/Kharchenko_2013_MWSC.vot:214:440: W49: Empty cell illegal for integer fields. (suppressing further warnings of this type...) [astropy.io.votable.converters]\n"
     ]
    }
   ],
   "source": [
    "close, far, df = get_cluster_data()"
   ]
  },
  {
   "cell_type": "code",
   "execution_count": 9,
   "metadata": {
    "collapsed": true
   },
   "outputs": [],
   "source": [
    "import matplotlib.pyplot as plt\n",
    "import pandas as pd, numpy as np\n",
    "\n",
    "from astropy.table import Table\n",
    "from astropy.io import ascii\n",
    "from astropy.coordinates import SkyCoord\n",
    "import astropy.units as u\n",
    "\n",
    "from math import pi\n",
    "import pickle, os\n",
    "\n",
    "from scipy.interpolate import interp1d\n",
    "\n",
    "global COLORS\n",
    "COLORS = ['#1f77b4', '#ff7f0e', '#2ca02c', '#d62728', '#9467bd', '#8c564b',\n",
    "          '#e377c2', '#7f7f7f', '#bcbd22', '#17becf']"
   ]
  },
  {
   "cell_type": "code",
   "execution_count": 10,
   "metadata": {
    "collapsed": true
   },
   "outputs": [],
   "source": [
    "coord = 'ecliptic'"
   ]
  },
  {
   "cell_type": "code",
   "execution_count": 13,
   "metadata": {},
   "outputs": [],
   "source": [
    "# TESS footprint\n",
    "import matplotlib as mpl, seaborn as sns\n",
    "\n",
    "dat = np.genfromtxt('../data/shemi_nhemi.csv', delimiter=',')\n",
    "dat = pd.DataFrame(np.transpose(dat), columns=['icSys', 'tSys', 'teff',\n",
    "    'logg', 'r', 'm', 'eLat', 'eLon', 'micSys', 'mvSys', 'mic', 'mv',\n",
    "    'stat', 'nPntg'])\n",
    "eLon, eLat = np.array(dat.eLon), np.array(dat.eLat)\n",
    "nPntg = np.array(dat.nPntg)\n",
    "if coord=='galactic':\n",
    "    c = SkyCoord(lat=eLat*u.degree, lon=eLon*u.degree,\n",
    "            frame='barycentrictrueecliptic')\n",
    "    lon = np.array(c.galactic.l)\n",
    "    lat = np.array(c.galactic.b)\n",
    "\n",
    "elif coord=='ecliptic':\n",
    "    lon, lat = eLon, eLat\n",
    "\n",
    "nPntg[nPntg >= 4] = 4\n",
    "\n",
    "ncolor = 4\n",
    "cmap1 = mpl.colors.ListedColormap(\n",
    "        sns.color_palette(\"Greys\", n_colors=ncolor, desat=1))\n",
    "bounds= list(np.arange(0.5,ncolor+1,1))\n",
    "norm1 = mpl.colors.BoundaryNorm(bounds, cmap1.N)"
   ]
  },
  {
   "cell_type": "markdown",
   "metadata": {},
   "source": [
    "load up bokeh..."
   ]
  },
  {
   "cell_type": "code",
   "execution_count": 14,
   "metadata": {},
   "outputs": [
    {
     "data": {
      "text/html": [
       "\n",
       "    <div class=\"bk-root\">\n",
       "        <a href=\"https://bokeh.pydata.org\" target=\"_blank\" class=\"bk-logo bk-logo-small bk-logo-notebook\"></a>\n",
       "        <span id=\"e3b74da6-9c12-4029-ad57-0de3a18ac6a4\">Loading BokehJS ...</span>\n",
       "    </div>"
      ]
     },
     "metadata": {},
     "output_type": "display_data"
    },
    {
     "data": {
      "application/javascript": [
       "\n",
       "(function(root) {\n",
       "  function now() {\n",
       "    return new Date();\n",
       "  }\n",
       "\n",
       "  var force = true;\n",
       "\n",
       "  if (typeof (root._bokeh_onload_callbacks) === \"undefined\" || force === true) {\n",
       "    root._bokeh_onload_callbacks = [];\n",
       "    root._bokeh_is_loading = undefined;\n",
       "  }\n",
       "\n",
       "  var JS_MIME_TYPE = 'application/javascript';\n",
       "  var HTML_MIME_TYPE = 'text/html';\n",
       "  var EXEC_MIME_TYPE = 'application/vnd.bokehjs_exec.v0+json';\n",
       "  var CLASS_NAME = 'output_bokeh rendered_html';\n",
       "\n",
       "  /**\n",
       "   * Render data to the DOM node\n",
       "   */\n",
       "  function render(props, node) {\n",
       "    var script = document.createElement(\"script\");\n",
       "    node.appendChild(script);\n",
       "  }\n",
       "\n",
       "  /**\n",
       "   * Handle when an output is cleared or removed\n",
       "   */\n",
       "  function handleClearOutput(event, handle) {\n",
       "    var cell = handle.cell;\n",
       "\n",
       "    var id = cell.output_area._bokeh_element_id;\n",
       "    var server_id = cell.output_area._bokeh_server_id;\n",
       "    // Clean up Bokeh references\n",
       "    if (id !== undefined) {\n",
       "      Bokeh.index[id].model.document.clear();\n",
       "      delete Bokeh.index[id];\n",
       "    }\n",
       "\n",
       "    if (server_id !== undefined) {\n",
       "      // Clean up Bokeh references\n",
       "      var cmd = \"from bokeh.io.state import curstate; print(curstate().uuid_to_server['\" + server_id + \"'].get_sessions()[0].document.roots[0]._id)\";\n",
       "      cell.notebook.kernel.execute(cmd, {\n",
       "        iopub: {\n",
       "          output: function(msg) {\n",
       "            var element_id = msg.content.text.trim();\n",
       "            Bokeh.index[element_id].model.document.clear();\n",
       "            delete Bokeh.index[element_id];\n",
       "          }\n",
       "        }\n",
       "      });\n",
       "      // Destroy server and session\n",
       "      var cmd = \"import bokeh.io.notebook as ion; ion.destroy_server('\" + server_id + \"')\";\n",
       "      cell.notebook.kernel.execute(cmd);\n",
       "    }\n",
       "  }\n",
       "\n",
       "  /**\n",
       "   * Handle when a new output is added\n",
       "   */\n",
       "  function handleAddOutput(event, handle) {\n",
       "    var output_area = handle.output_area;\n",
       "    var output = handle.output;\n",
       "\n",
       "    // limit handleAddOutput to display_data with EXEC_MIME_TYPE content only\n",
       "    if ((output.output_type != \"display_data\") || (!output.data.hasOwnProperty(EXEC_MIME_TYPE))) {\n",
       "      return\n",
       "    }\n",
       "\n",
       "    var toinsert = output_area.element.find(\".\" + CLASS_NAME.split(' ')[0]);\n",
       "\n",
       "    if (output.metadata[EXEC_MIME_TYPE][\"id\"] !== undefined) {\n",
       "      toinsert[0].firstChild.textContent = output.data[JS_MIME_TYPE];\n",
       "      // store reference to embed id on output_area\n",
       "      output_area._bokeh_element_id = output.metadata[EXEC_MIME_TYPE][\"id\"];\n",
       "    }\n",
       "    if (output.metadata[EXEC_MIME_TYPE][\"server_id\"] !== undefined) {\n",
       "      var bk_div = document.createElement(\"div\");\n",
       "      bk_div.innerHTML = output.data[HTML_MIME_TYPE];\n",
       "      var script_attrs = bk_div.children[0].attributes;\n",
       "      for (var i = 0; i < script_attrs.length; i++) {\n",
       "        toinsert[0].firstChild.setAttribute(script_attrs[i].name, script_attrs[i].value);\n",
       "      }\n",
       "      // store reference to server id on output_area\n",
       "      output_area._bokeh_server_id = output.metadata[EXEC_MIME_TYPE][\"server_id\"];\n",
       "    }\n",
       "  }\n",
       "\n",
       "  function register_renderer(events, OutputArea) {\n",
       "\n",
       "    function append_mime(data, metadata, element) {\n",
       "      // create a DOM node to render to\n",
       "      var toinsert = this.create_output_subarea(\n",
       "        metadata,\n",
       "        CLASS_NAME,\n",
       "        EXEC_MIME_TYPE\n",
       "      );\n",
       "      this.keyboard_manager.register_events(toinsert);\n",
       "      // Render to node\n",
       "      var props = {data: data, metadata: metadata[EXEC_MIME_TYPE]};\n",
       "      render(props, toinsert[0]);\n",
       "      element.append(toinsert);\n",
       "      return toinsert\n",
       "    }\n",
       "\n",
       "    /* Handle when an output is cleared or removed */\n",
       "    events.on('clear_output.CodeCell', handleClearOutput);\n",
       "    events.on('delete.Cell', handleClearOutput);\n",
       "\n",
       "    /* Handle when a new output is added */\n",
       "    events.on('output_added.OutputArea', handleAddOutput);\n",
       "\n",
       "    /**\n",
       "     * Register the mime type and append_mime function with output_area\n",
       "     */\n",
       "    OutputArea.prototype.register_mime_type(EXEC_MIME_TYPE, append_mime, {\n",
       "      /* Is output safe? */\n",
       "      safe: true,\n",
       "      /* Index of renderer in `output_area.display_order` */\n",
       "      index: 0\n",
       "    });\n",
       "  }\n",
       "\n",
       "  // register the mime type if in Jupyter Notebook environment and previously unregistered\n",
       "  if (root.Jupyter !== undefined) {\n",
       "    var events = require('base/js/events');\n",
       "    var OutputArea = require('notebook/js/outputarea').OutputArea;\n",
       "\n",
       "    if (OutputArea.prototype.mime_types().indexOf(EXEC_MIME_TYPE) == -1) {\n",
       "      register_renderer(events, OutputArea);\n",
       "    }\n",
       "  }\n",
       "\n",
       "  \n",
       "  if (typeof (root._bokeh_timeout) === \"undefined\" || force === true) {\n",
       "    root._bokeh_timeout = Date.now() + 5000;\n",
       "    root._bokeh_failed_load = false;\n",
       "  }\n",
       "\n",
       "  var NB_LOAD_WARNING = {'data': {'text/html':\n",
       "     \"<div style='background-color: #fdd'>\\n\"+\n",
       "     \"<p>\\n\"+\n",
       "     \"BokehJS does not appear to have successfully loaded. If loading BokehJS from CDN, this \\n\"+\n",
       "     \"may be due to a slow or bad network connection. Possible fixes:\\n\"+\n",
       "     \"</p>\\n\"+\n",
       "     \"<ul>\\n\"+\n",
       "     \"<li>re-rerun `output_notebook()` to attempt to load from CDN again, or</li>\\n\"+\n",
       "     \"<li>use INLINE resources instead, as so:</li>\\n\"+\n",
       "     \"</ul>\\n\"+\n",
       "     \"<code>\\n\"+\n",
       "     \"from bokeh.resources import INLINE\\n\"+\n",
       "     \"output_notebook(resources=INLINE)\\n\"+\n",
       "     \"</code>\\n\"+\n",
       "     \"</div>\"}};\n",
       "\n",
       "  function display_loaded() {\n",
       "    var el = document.getElementById(\"e3b74da6-9c12-4029-ad57-0de3a18ac6a4\");\n",
       "    if (el != null) {\n",
       "      el.textContent = \"BokehJS is loading...\";\n",
       "    }\n",
       "    if (root.Bokeh !== undefined) {\n",
       "      if (el != null) {\n",
       "        el.textContent = \"BokehJS \" + root.Bokeh.version + \" successfully loaded.\";\n",
       "      }\n",
       "    } else if (Date.now() < root._bokeh_timeout) {\n",
       "      setTimeout(display_loaded, 100)\n",
       "    }\n",
       "  }\n",
       "\n",
       "\n",
       "  function run_callbacks() {\n",
       "    try {\n",
       "      root._bokeh_onload_callbacks.forEach(function(callback) { callback() });\n",
       "    }\n",
       "    finally {\n",
       "      delete root._bokeh_onload_callbacks\n",
       "    }\n",
       "    console.info(\"Bokeh: all callbacks have finished\");\n",
       "  }\n",
       "\n",
       "  function load_libs(js_urls, callback) {\n",
       "    root._bokeh_onload_callbacks.push(callback);\n",
       "    if (root._bokeh_is_loading > 0) {\n",
       "      console.log(\"Bokeh: BokehJS is being loaded, scheduling callback at\", now());\n",
       "      return null;\n",
       "    }\n",
       "    if (js_urls == null || js_urls.length === 0) {\n",
       "      run_callbacks();\n",
       "      return null;\n",
       "    }\n",
       "    console.log(\"Bokeh: BokehJS not loaded, scheduling load and callback at\", now());\n",
       "    root._bokeh_is_loading = js_urls.length;\n",
       "    for (var i = 0; i < js_urls.length; i++) {\n",
       "      var url = js_urls[i];\n",
       "      var s = document.createElement('script');\n",
       "      s.src = url;\n",
       "      s.async = false;\n",
       "      s.onreadystatechange = s.onload = function() {\n",
       "        root._bokeh_is_loading--;\n",
       "        if (root._bokeh_is_loading === 0) {\n",
       "          console.log(\"Bokeh: all BokehJS libraries loaded\");\n",
       "          run_callbacks()\n",
       "        }\n",
       "      };\n",
       "      s.onerror = function() {\n",
       "        console.warn(\"failed to load library \" + url);\n",
       "      };\n",
       "      console.log(\"Bokeh: injecting script tag for BokehJS library: \", url);\n",
       "      document.getElementsByTagName(\"head\")[0].appendChild(s);\n",
       "    }\n",
       "  };var element = document.getElementById(\"e3b74da6-9c12-4029-ad57-0de3a18ac6a4\");\n",
       "  if (element == null) {\n",
       "    console.log(\"Bokeh: ERROR: autoload.js configured with elementid 'e3b74da6-9c12-4029-ad57-0de3a18ac6a4' but no matching script tag was found. \")\n",
       "    return false;\n",
       "  }\n",
       "\n",
       "  var js_urls = [\"https://cdn.pydata.org/bokeh/release/bokeh-0.12.14.min.js\", \"https://cdn.pydata.org/bokeh/release/bokeh-widgets-0.12.14.min.js\", \"https://cdn.pydata.org/bokeh/release/bokeh-tables-0.12.14.min.js\", \"https://cdn.pydata.org/bokeh/release/bokeh-gl-0.12.14.min.js\"];\n",
       "\n",
       "  var inline_js = [\n",
       "    function(Bokeh) {\n",
       "      Bokeh.set_log_level(\"info\");\n",
       "    },\n",
       "    \n",
       "    function(Bokeh) {\n",
       "      \n",
       "    },\n",
       "    function(Bokeh) {\n",
       "      console.log(\"Bokeh: injecting CSS: https://cdn.pydata.org/bokeh/release/bokeh-0.12.14.min.css\");\n",
       "      Bokeh.embed.inject_css(\"https://cdn.pydata.org/bokeh/release/bokeh-0.12.14.min.css\");\n",
       "      console.log(\"Bokeh: injecting CSS: https://cdn.pydata.org/bokeh/release/bokeh-widgets-0.12.14.min.css\");\n",
       "      Bokeh.embed.inject_css(\"https://cdn.pydata.org/bokeh/release/bokeh-widgets-0.12.14.min.css\");\n",
       "      console.log(\"Bokeh: injecting CSS: https://cdn.pydata.org/bokeh/release/bokeh-tables-0.12.14.min.css\");\n",
       "      Bokeh.embed.inject_css(\"https://cdn.pydata.org/bokeh/release/bokeh-tables-0.12.14.min.css\");\n",
       "    }\n",
       "  ];\n",
       "\n",
       "  function run_inline_js() {\n",
       "    \n",
       "    if ((root.Bokeh !== undefined) || (force === true)) {\n",
       "      for (var i = 0; i < inline_js.length; i++) {\n",
       "        inline_js[i].call(root, root.Bokeh);\n",
       "      }if (force === true) {\n",
       "        display_loaded();\n",
       "      }} else if (Date.now() < root._bokeh_timeout) {\n",
       "      setTimeout(run_inline_js, 100);\n",
       "    } else if (!root._bokeh_failed_load) {\n",
       "      console.log(\"Bokeh: BokehJS failed to load within specified timeout.\");\n",
       "      root._bokeh_failed_load = true;\n",
       "    } else if (force !== true) {\n",
       "      var cell = $(document.getElementById(\"e3b74da6-9c12-4029-ad57-0de3a18ac6a4\")).parents('.cell').data().cell;\n",
       "      cell.output_area.append_execute_result(NB_LOAD_WARNING)\n",
       "    }\n",
       "\n",
       "  }\n",
       "\n",
       "  if (root._bokeh_is_loading === 0) {\n",
       "    console.log(\"Bokeh: BokehJS loaded, going straight to plotting\");\n",
       "    run_inline_js();\n",
       "  } else {\n",
       "    load_libs(js_urls, function() {\n",
       "      console.log(\"Bokeh: BokehJS plotting callback run at\", now());\n",
       "      run_inline_js();\n",
       "    });\n",
       "  }\n",
       "}(window));"
      ],
      "application/vnd.bokehjs_load.v0+json": "\n(function(root) {\n  function now() {\n    return new Date();\n  }\n\n  var force = true;\n\n  if (typeof (root._bokeh_onload_callbacks) === \"undefined\" || force === true) {\n    root._bokeh_onload_callbacks = [];\n    root._bokeh_is_loading = undefined;\n  }\n\n  \n\n  \n  if (typeof (root._bokeh_timeout) === \"undefined\" || force === true) {\n    root._bokeh_timeout = Date.now() + 5000;\n    root._bokeh_failed_load = false;\n  }\n\n  var NB_LOAD_WARNING = {'data': {'text/html':\n     \"<div style='background-color: #fdd'>\\n\"+\n     \"<p>\\n\"+\n     \"BokehJS does not appear to have successfully loaded. If loading BokehJS from CDN, this \\n\"+\n     \"may be due to a slow or bad network connection. Possible fixes:\\n\"+\n     \"</p>\\n\"+\n     \"<ul>\\n\"+\n     \"<li>re-rerun `output_notebook()` to attempt to load from CDN again, or</li>\\n\"+\n     \"<li>use INLINE resources instead, as so:</li>\\n\"+\n     \"</ul>\\n\"+\n     \"<code>\\n\"+\n     \"from bokeh.resources import INLINE\\n\"+\n     \"output_notebook(resources=INLINE)\\n\"+\n     \"</code>\\n\"+\n     \"</div>\"}};\n\n  function display_loaded() {\n    var el = document.getElementById(\"e3b74da6-9c12-4029-ad57-0de3a18ac6a4\");\n    if (el != null) {\n      el.textContent = \"BokehJS is loading...\";\n    }\n    if (root.Bokeh !== undefined) {\n      if (el != null) {\n        el.textContent = \"BokehJS \" + root.Bokeh.version + \" successfully loaded.\";\n      }\n    } else if (Date.now() < root._bokeh_timeout) {\n      setTimeout(display_loaded, 100)\n    }\n  }\n\n\n  function run_callbacks() {\n    try {\n      root._bokeh_onload_callbacks.forEach(function(callback) { callback() });\n    }\n    finally {\n      delete root._bokeh_onload_callbacks\n    }\n    console.info(\"Bokeh: all callbacks have finished\");\n  }\n\n  function load_libs(js_urls, callback) {\n    root._bokeh_onload_callbacks.push(callback);\n    if (root._bokeh_is_loading > 0) {\n      console.log(\"Bokeh: BokehJS is being loaded, scheduling callback at\", now());\n      return null;\n    }\n    if (js_urls == null || js_urls.length === 0) {\n      run_callbacks();\n      return null;\n    }\n    console.log(\"Bokeh: BokehJS not loaded, scheduling load and callback at\", now());\n    root._bokeh_is_loading = js_urls.length;\n    for (var i = 0; i < js_urls.length; i++) {\n      var url = js_urls[i];\n      var s = document.createElement('script');\n      s.src = url;\n      s.async = false;\n      s.onreadystatechange = s.onload = function() {\n        root._bokeh_is_loading--;\n        if (root._bokeh_is_loading === 0) {\n          console.log(\"Bokeh: all BokehJS libraries loaded\");\n          run_callbacks()\n        }\n      };\n      s.onerror = function() {\n        console.warn(\"failed to load library \" + url);\n      };\n      console.log(\"Bokeh: injecting script tag for BokehJS library: \", url);\n      document.getElementsByTagName(\"head\")[0].appendChild(s);\n    }\n  };var element = document.getElementById(\"e3b74da6-9c12-4029-ad57-0de3a18ac6a4\");\n  if (element == null) {\n    console.log(\"Bokeh: ERROR: autoload.js configured with elementid 'e3b74da6-9c12-4029-ad57-0de3a18ac6a4' but no matching script tag was found. \")\n    return false;\n  }\n\n  var js_urls = [\"https://cdn.pydata.org/bokeh/release/bokeh-0.12.14.min.js\", \"https://cdn.pydata.org/bokeh/release/bokeh-widgets-0.12.14.min.js\", \"https://cdn.pydata.org/bokeh/release/bokeh-tables-0.12.14.min.js\", \"https://cdn.pydata.org/bokeh/release/bokeh-gl-0.12.14.min.js\"];\n\n  var inline_js = [\n    function(Bokeh) {\n      Bokeh.set_log_level(\"info\");\n    },\n    \n    function(Bokeh) {\n      \n    },\n    function(Bokeh) {\n      console.log(\"Bokeh: injecting CSS: https://cdn.pydata.org/bokeh/release/bokeh-0.12.14.min.css\");\n      Bokeh.embed.inject_css(\"https://cdn.pydata.org/bokeh/release/bokeh-0.12.14.min.css\");\n      console.log(\"Bokeh: injecting CSS: https://cdn.pydata.org/bokeh/release/bokeh-widgets-0.12.14.min.css\");\n      Bokeh.embed.inject_css(\"https://cdn.pydata.org/bokeh/release/bokeh-widgets-0.12.14.min.css\");\n      console.log(\"Bokeh: injecting CSS: https://cdn.pydata.org/bokeh/release/bokeh-tables-0.12.14.min.css\");\n      Bokeh.embed.inject_css(\"https://cdn.pydata.org/bokeh/release/bokeh-tables-0.12.14.min.css\");\n    }\n  ];\n\n  function run_inline_js() {\n    \n    if ((root.Bokeh !== undefined) || (force === true)) {\n      for (var i = 0; i < inline_js.length; i++) {\n        inline_js[i].call(root, root.Bokeh);\n      }if (force === true) {\n        display_loaded();\n      }} else if (Date.now() < root._bokeh_timeout) {\n      setTimeout(run_inline_js, 100);\n    } else if (!root._bokeh_failed_load) {\n      console.log(\"Bokeh: BokehJS failed to load within specified timeout.\");\n      root._bokeh_failed_load = true;\n    } else if (force !== true) {\n      var cell = $(document.getElementById(\"e3b74da6-9c12-4029-ad57-0de3a18ac6a4\")).parents('.cell').data().cell;\n      cell.output_area.append_execute_result(NB_LOAD_WARNING)\n    }\n\n  }\n\n  if (root._bokeh_is_loading === 0) {\n    console.log(\"Bokeh: BokehJS loaded, going straight to plotting\");\n    run_inline_js();\n  } else {\n    load_libs(js_urls, function() {\n      console.log(\"Bokeh: BokehJS plotting callback run at\", now());\n      run_inline_js();\n    });\n  }\n}(window));"
     },
     "metadata": {},
     "output_type": "display_data"
    }
   ],
   "source": [
    "from bokeh.plotting import ColumnDataSource, figure, show\n",
    "from bokeh.io import output_notebook\n",
    "output_notebook()"
   ]
  },
  {
   "cell_type": "code",
   "execution_count": 16,
   "metadata": {},
   "outputs": [],
   "source": [
    "df = pd.DataFrame({'lon':lon,\n",
    "                   'lat':lat,\n",
    "                   'nPntg_filtered':nPntg,\n",
    "                   'nPntg':np.array(dat.nPntg)}\n",
    "                 )\n",
    "\n",
    "source = ColumnDataSource(df)"
   ]
  },
  {
   "cell_type": "markdown",
   "metadata": {},
   "source": [
    "set up figure characteristics"
   ]
  },
  {
   "cell_type": "code",
   "execution_count": 18,
   "metadata": {},
   "outputs": [
    {
     "data": {
      "text/plain": [
       "89.988418579101562"
      ]
     },
     "execution_count": 18,
     "metadata": {},
     "output_type": "execute_result"
    }
   ],
   "source": [
    "np.max(lat)"
   ]
  },
  {
   "cell_type": "code",
   "execution_count": 19,
   "metadata": {},
   "outputs": [
    {
     "data": {
      "text/plain": [
       "-89.895767211914062"
      ]
     },
     "execution_count": 19,
     "metadata": {},
     "output_type": "execute_result"
    }
   ],
   "source": [
    "np.min(lat)"
   ]
  },
  {
   "cell_type": "code",
   "execution_count": 20,
   "metadata": {},
   "outputs": [
    {
     "data": {
      "text/plain": [
       "359.99899291992188"
      ]
     },
     "execution_count": 20,
     "metadata": {},
     "output_type": "execute_result"
    }
   ],
   "source": [
    "np.max(lon)"
   ]
  },
  {
   "cell_type": "code",
   "execution_count": 25,
   "metadata": {},
   "outputs": [
    {
     "data": {
      "text/plain": [
       "200000"
      ]
     },
     "execution_count": 25,
     "metadata": {},
     "output_type": "execute_result"
    }
   ],
   "source": [
    "len(lon)"
   ]
  },
  {
   "cell_type": "code",
   "execution_count": 24,
   "metadata": {},
   "outputs": [],
   "source": [
    "fig = figure(tools=\"pan,wheel_zoom,box_zoom,reset\",\n",
    "             active_scroll=\"wheel_zoom\",\n",
    "             x_axis_type=\"linear\",\n",
    "             x_range=[0.0, 360],\n",
    "             y_range=[-90,90]\n",
    "            )"
   ]
  },
  {
   "cell_type": "code",
   "execution_count": 22,
   "metadata": {},
   "outputs": [
    {
     "data": {
      "text/html": [
       "\n",
       "<div class=\"bk-root\">\n",
       "    <div class=\"bk-plotdiv\" id=\"d3f80df5-49f8-4663-9aa6-e2842ee2e7e8\"></div>\n",
       "</div>"
      ]
     },
     "metadata": {},
     "output_type": "display_data"
    },
    {
     "name": "stderr",
     "output_type": "stream",
     "text": [
      "IOPub data rate exceeded.\n",
      "The notebook server will temporarily stop sending output\n",
      "to the client in order to avoid crashing it.\n",
      "To change this limit, set the config variable\n",
      "`--NotebookApp.iopub_data_rate_limit`.\n"
     ]
    }
   ],
   "source": [
    "pl_render = fig.circle('lon','lat', source=source, size=10)\n",
    "show(fig)"
   ]
  },
  {
   "cell_type": "code",
   "execution_count": null,
   "metadata": {
    "collapsed": true
   },
   "outputs": [],
   "source": []
  },
  {
   "cell_type": "code",
   "execution_count": null,
   "metadata": {
    "collapsed": true
   },
   "outputs": [],
   "source": [
    "x, y = m(lon, lat)\n",
    "out = m.scatter(x,y,s=0.2,marker='s',c=nPntg, zorder=1, cmap=cmap1,\n",
    "        norm=norm1, rasterized=True, alpha=0.5)\n",
    "out = m.scatter(x,y,s=0, marker='s',c=nPntg, zorder=-1, cmap=cmap1,\n",
    "        norm=norm1, rasterized=True, alpha=1)"
   ]
  },
  {
   "cell_type": "code",
   "execution_count": null,
   "metadata": {
    "collapsed": true
   },
   "outputs": [],
   "source": []
  },
  {
   "cell_type": "code",
   "execution_count": null,
   "metadata": {
    "collapsed": true
   },
   "outputs": [],
   "source": []
  },
  {
   "cell_type": "code",
   "execution_count": null,
   "metadata": {
    "collapsed": true
   },
   "outputs": [],
   "source": []
  },
  {
   "cell_type": "code",
   "execution_count": null,
   "metadata": {
    "collapsed": true
   },
   "outputs": [],
   "source": [
    "def plot_cluster_positions_scicase(df):\n",
    "    '''\n",
    "    Show the positions of d<2kpc clusters, and highlight those with rotation\n",
    "    period measurements & transiting planets.\n",
    "    '''\n",
    "\n",
    "    rotn_clusters = ['NGC_1976', # AKA the orion nebula cluster\n",
    "                     'NGC_6530',\n",
    "                     'NGC_2264',\n",
    "                     'Cep_OB3',\n",
    "                     'NGC_2362',\n",
    "                     'NGC_869', # h Per, one of the double cluster\n",
    "                     'NGC_2547',\n",
    "                     'IC_2391',\n",
    "                     'Melotte_20', # alpha Persei cluster, alpha Per\n",
    "                     'Melotte_22', # AKA Pleiades\n",
    "                     'NGC_2323', # M 50\n",
    "                     'NGC_2168', #M 35\n",
    "                     'NGC_2516',\n",
    "                     'NGC_1039', #M 34\n",
    "                     'NGC_2099', # M 37\n",
    "                     #'NGC_2632', #Praesepe, comment out to avoid overlap\n",
    "                     #'NGC_6811', #comment out to avoid overlap\n",
    "                     'NGC_2682' ] #M 67\n",
    "\n",
    "    transiting_planet_clusters = [\n",
    "                     'NGC_6811',\n",
    "                     'NGC_2632' #Praesepe\n",
    "                    ]\n",
    "\n",
    "    df = df[df['d'] < 2000]\n",
    "\n",
    "    df_rotn = df.loc[df['Name'].isin(rotn_clusters)]\n",
    "    df_rotn = df_rotn[\n",
    "            ['ecliptic_lat','ecliptic_long','galactic_lat','galactic_long',\n",
    "            'Name']\n",
    "            ]\n",
    "\n",
    "    df_tra = df.loc[df['Name'].isin(transiting_planet_clusters)]\n",
    "\n",
    "    # Above rotation lists were from Table 1 of Gallet & Bouvier 2015,\n",
    "    # including M67 which was observed by K2.  Transiting planets from the few\n",
    "    # papers that have them.  They are cross-matching MWSC's naming scheme. I\n",
    "    # could not find the Hyades or ScoCen OB.  They both have transiting\n",
    "    # planets, and the former has rotation studies done.\n",
    "\n",
    "    c_Hyades = SkyCoord(ra='4h27m', dec=15*u.degree + 52*u.arcminute)\n",
    "    df_hyades = pd.DataFrame({\n",
    "            'Name':'Hyades',\n",
    "            'ecliptic_long':float(c_Hyades.barycentrictrueecliptic.lon.value),\n",
    "            'ecliptic_lat':float(c_Hyades.barycentrictrueecliptic.lat.value),\n",
    "            'galactic_long':float(c_Hyades.galactic.l.value),\n",
    "            'galactic_lat':float(c_Hyades.galactic.b.value)}, index=[0])\n",
    "\n",
    "    c_ScoOB2 = SkyCoord(ra='16h10m14.73s', dec='-19d19m09.38s') # Mann+2016's position\n",
    "    df_ScoOB2 = pd.DataFrame({\n",
    "            'Name':'Sco_OB2',\n",
    "            'ecliptic_long':float(c_ScoOB2.barycentrictrueecliptic.lon.value),\n",
    "            'ecliptic_lat':float(c_ScoOB2.barycentrictrueecliptic.lat.value),\n",
    "            'galactic_long':float(c_ScoOB2.galactic.l.value),\n",
    "            'galactic_lat':float(c_ScoOB2.galactic.b.value)}, index=[0])\n",
    "\n",
    "    df_tra = df_tra.append(df_hyades, ignore_index=True)\n",
    "    df_tra = df_tra.append(df_ScoOB2, ignore_index=True)\n",
    "    #df_rotn = df_rotn.append(df_hyades, ignore_index=True) #avoid overlap\n",
    "\n",
    "    # End of data wrangling.\n",
    "\n",
    "\n",
    "    import matplotlib as mpl\n",
    "    from mpl_toolkits.basemap import Basemap\n",
    "\n",
    "    for coord in ['galactic','ecliptic']:\n",
    "\n",
    "        plt.close('all')\n",
    "        #f, ax = plt.subplots(figsize=(4,4))\n",
    "        f = plt.figure(figsize=(0.7*5,0.7*4))\n",
    "        ax = plt.gca()\n",
    "        m = Basemap(projection='kav7',lon_0=0, resolution='c', ax=ax)\n",
    "\n",
    "        lats = np.array(df[coord+'_lat'])\n",
    "        lons = np.array(df[coord+'_long'])\n",
    "        x, y = m(lons, lats)\n",
    "        m.scatter(x,y,2,marker='o',facecolor=COLORS[0], zorder=4,\n",
    "                alpha=0.9,edgecolors=COLORS[0], lw=0)\n",
    "\n",
    "        lats = np.array(df_rotn[coord+'_lat'])\n",
    "        lons = np.array(df_rotn[coord+'_long'])\n",
    "        x, y = m(lons, lats)\n",
    "        m.scatter(x,y,42,marker='*',color=COLORS[1],edgecolors='k',\n",
    "                label='have rotation studies', zorder=5,lw=0.4)\n",
    "\n",
    "        lats = np.array(df_tra[coord+'_lat'])\n",
    "        lons = np.array(df_tra[coord+'_long'])\n",
    "        x, y = m(lons, lats)\n",
    "        m.scatter(x,y,13,marker='s',color=COLORS[1],edgecolors='k',\n",
    "                label='also have transiting planets', zorder=6, lw=0.45)\n",
    "\n",
    "        parallels = np.arange(-90.,120.,30.)\n",
    "        meridians = np.arange(0.,420.,60.)\n",
    "\t# labels = [left,right,top,bottom]\n",
    "        ps = m.drawparallels(parallels, labels=[1,0,0,0], zorder=2,\n",
    "                fontsize='x-small')\n",
    "        ms = m.drawmeridians(meridians, labels=[0,0,0,1], zorder=2,\n",
    "                fontsize='x-small')\n",
    "\n",
    "        # Shrink current axis's height by 10% on the bottom\n",
    "        box = ax.get_position()\n",
    "        ax.set_position([box.x0, box.y0 + box.height * 0.1,\n",
    "            box.width, box.height * 0.9])\n",
    "\n",
    "\t# Put a legend below current axis\n",
    "        #ax.legend(loc='upper center', bbox_to_anchor=(0.01, 0.02),\n",
    "        #        fancybox=True, ncol=1, fontsize='x-small')\n",
    "\n",
    "        for _m in ms:\n",
    "            try:\n",
    "                #ms[_m][1][0].set_rotation(45)\n",
    "                if '60' in ms[_m][1][0].get_text():\n",
    "                    ms[_m][1][0].set_text('')\n",
    "            except:\n",
    "                pass\n",
    "        for _p in ps:\n",
    "            try:\n",
    "                if '30' in ps[_p][1][0].get_text():\n",
    "                    ps[_p][1][0].set_text('')\n",
    "            except:\n",
    "                pass\n",
    "\n",
    "        ax.set_xlabel(coord+' long', labelpad=13, fontsize='x-small')\n",
    "        ax.set_ylabel(coord+' lat', labelpad=13, fontsize='x-small')\n",
    "\n",
    "\n",
    "        m.drawmapboundary()\n",
    "        #cbar = f.colorbar(out, cmap=cmap1, norm=norm1, boundaries=bounds,\n",
    "        #    fraction=0.025, pad=0.05, ticks=np.arange(ncolor)+1,\n",
    "        #    orientation='vertical')\n",
    "\n",
    "        #ylabels = np.arange(1,ncolor+1,1)\n",
    "        #cbarlabels = list(map(str, ylabels))[:-1]\n",
    "        #cbarlabels.append('$\\geq\\! 4$')\n",
    "        #cbar.ax.set_yticklabels(cbarlabels, fontsize='x-small')\n",
    "        #cbar.set_label('N pointings', rotation=270, labelpad=5, fontsize='x-small')\n",
    "        #################### \n",
    "        f.tight_layout()\n",
    "\n",
    "        f.savefig('cluster_positions_'+coord+'_scicase.pdf', bbox_inches='tight')\n",
    "\n"
   ]
  },
  {
   "cell_type": "code",
   "execution_count": 1,
   "metadata": {},
   "outputs": [
    {
     "data": {
      "text/html": [
       "<div style=\"display: table;\"><div style=\"display: table-row;\"><div style=\"display: table-cell;\"><b title=\"bokeh.models.renderers.GlyphRenderer\">GlyphRenderer</b>(</div><div style=\"display: table-cell;\">id&nbsp;=&nbsp;'1582d2a0-3e1f-4e19-90d1-b6ca537cb152', <span id=\"5243999c-8884-4953-8193-2a559b83b875\" style=\"cursor: pointer;\">&hellip;)</span></div></div><div class=\"7469bb50-2a5e-4bda-bea6-6dbf6f58cb51\" style=\"display: none;\"><div style=\"display: table-cell;\"></div><div style=\"display: table-cell;\">data_source&nbsp;=&nbsp;ColumnDataSource(id='28c876bd-047f-46dc-bc25-bfcc7a3de285', ...),</div></div><div class=\"7469bb50-2a5e-4bda-bea6-6dbf6f58cb51\" style=\"display: none;\"><div style=\"display: table-cell;\"></div><div style=\"display: table-cell;\">glyph&nbsp;=&nbsp;Circle(id='26de8d9f-d2b9-43cf-8d57-c0d0eb795075', ...),</div></div><div class=\"7469bb50-2a5e-4bda-bea6-6dbf6f58cb51\" style=\"display: none;\"><div style=\"display: table-cell;\"></div><div style=\"display: table-cell;\">hover_glyph&nbsp;=&nbsp;None,</div></div><div class=\"7469bb50-2a5e-4bda-bea6-6dbf6f58cb51\" style=\"display: none;\"><div style=\"display: table-cell;\"></div><div style=\"display: table-cell;\">js_event_callbacks&nbsp;=&nbsp;{},</div></div><div class=\"7469bb50-2a5e-4bda-bea6-6dbf6f58cb51\" style=\"display: none;\"><div style=\"display: table-cell;\"></div><div style=\"display: table-cell;\">js_property_callbacks&nbsp;=&nbsp;{},</div></div><div class=\"7469bb50-2a5e-4bda-bea6-6dbf6f58cb51\" style=\"display: none;\"><div style=\"display: table-cell;\"></div><div style=\"display: table-cell;\">level&nbsp;=&nbsp;'glyph',</div></div><div class=\"7469bb50-2a5e-4bda-bea6-6dbf6f58cb51\" style=\"display: none;\"><div style=\"display: table-cell;\"></div><div style=\"display: table-cell;\">muted&nbsp;=&nbsp;False,</div></div><div class=\"7469bb50-2a5e-4bda-bea6-6dbf6f58cb51\" style=\"display: none;\"><div style=\"display: table-cell;\"></div><div style=\"display: table-cell;\">muted_glyph&nbsp;=&nbsp;None,</div></div><div class=\"7469bb50-2a5e-4bda-bea6-6dbf6f58cb51\" style=\"display: none;\"><div style=\"display: table-cell;\"></div><div style=\"display: table-cell;\">name&nbsp;=&nbsp;None,</div></div><div class=\"7469bb50-2a5e-4bda-bea6-6dbf6f58cb51\" style=\"display: none;\"><div style=\"display: table-cell;\"></div><div style=\"display: table-cell;\">nonselection_glyph&nbsp;=&nbsp;Circle(id='4487b95b-f2c7-4f08-84ec-640beea7771e', ...),</div></div><div class=\"7469bb50-2a5e-4bda-bea6-6dbf6f58cb51\" style=\"display: none;\"><div style=\"display: table-cell;\"></div><div style=\"display: table-cell;\">selection_glyph&nbsp;=&nbsp;None,</div></div><div class=\"7469bb50-2a5e-4bda-bea6-6dbf6f58cb51\" style=\"display: none;\"><div style=\"display: table-cell;\"></div><div style=\"display: table-cell;\">subscribed_events&nbsp;=&nbsp;[],</div></div><div class=\"7469bb50-2a5e-4bda-bea6-6dbf6f58cb51\" style=\"display: none;\"><div style=\"display: table-cell;\"></div><div style=\"display: table-cell;\">tags&nbsp;=&nbsp;[],</div></div><div class=\"7469bb50-2a5e-4bda-bea6-6dbf6f58cb51\" style=\"display: none;\"><div style=\"display: table-cell;\"></div><div style=\"display: table-cell;\">view&nbsp;=&nbsp;CDSView(id='386d860b-2fb5-4a44-9741-2322d4cf5508', ...),</div></div><div class=\"7469bb50-2a5e-4bda-bea6-6dbf6f58cb51\" style=\"display: none;\"><div style=\"display: table-cell;\"></div><div style=\"display: table-cell;\">visible&nbsp;=&nbsp;True,</div></div><div class=\"7469bb50-2a5e-4bda-bea6-6dbf6f58cb51\" style=\"display: none;\"><div style=\"display: table-cell;\"></div><div style=\"display: table-cell;\">x_range_name&nbsp;=&nbsp;'default',</div></div><div class=\"7469bb50-2a5e-4bda-bea6-6dbf6f58cb51\" style=\"display: none;\"><div style=\"display: table-cell;\"></div><div style=\"display: table-cell;\">y_range_name&nbsp;=&nbsp;'default')</div></div></div>\n",
       "<script>\n",
       "(function() {\n",
       "  var expanded = false;\n",
       "  var ellipsis = document.getElementById(\"5243999c-8884-4953-8193-2a559b83b875\");\n",
       "  ellipsis.addEventListener(\"click\", function() {\n",
       "    var rows = document.getElementsByClassName(\"7469bb50-2a5e-4bda-bea6-6dbf6f58cb51\");\n",
       "    for (var i = 0; i < rows.length; i++) {\n",
       "      var el = rows[i];\n",
       "      el.style.display = expanded ? \"none\" : \"table-row\";\n",
       "    }\n",
       "    ellipsis.innerHTML = expanded ? \"&hellip;)\" : \"&lsaquo;&lsaquo;&lsaquo;\";\n",
       "    expanded = !expanded;\n",
       "  });\n",
       "})();\n",
       "</script>\n"
      ],
      "text/plain": [
       "GlyphRenderer(id='1582d2a0-3e1f-4e19-90d1-b6ca537cb152', ...)"
      ]
     },
     "execution_count": 1,
     "metadata": {},
     "output_type": "execute_result"
    }
   ],
   "source": [
    "from bokeh.plotting import figure\n",
    "from bokeh.models import ColumnDataSource\n",
    "\n",
    "data = {'x_values': [1, 2, 3, 4, 5],\n",
    "        'y_values': [6, 7, 2, 3, 6]}\n",
    "\n",
    "source = ColumnDataSource(data=data)\n",
    "\n",
    "p = figure()\n",
    "p.circle(x='x_values', y='y_values', source=source)"
   ]
  },
  {
   "cell_type": "code",
   "execution_count": null,
   "metadata": {
    "collapsed": true
   },
   "outputs": [],
   "source": []
  }
 ],
 "metadata": {
  "kernelspec": {
   "display_name": "Python 3",
   "language": "python",
   "name": "python3"
  },
  "language_info": {
   "codemirror_mode": {
    "name": "ipython",
    "version": 3
   },
   "file_extension": ".py",
   "mimetype": "text/x-python",
   "name": "python",
   "nbconvert_exporter": "python",
   "pygments_lexer": "ipython3",
   "version": "3.6.5"
  }
 },
 "nbformat": 4,
 "nbformat_minor": 2
}
